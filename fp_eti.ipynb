{
  "cells": [
    {
      "cell_type": "markdown",
      "metadata": {
        "id": "view-in-github",
        "colab_type": "text"
      },
      "source": [
        "<a href=\"https://colab.research.google.com/github/tristaavrilia/fp_eti_A/blob/main/fp_eti.ipynb\" target=\"_parent\"><img src=\"https://colab.research.google.com/assets/colab-badge.svg\" alt=\"Open In Colab\"/></a>"
      ]
    },
    {
      "cell_type": "markdown",
      "metadata": {
        "id": "u2O__7-NrP9B"
      },
      "source": [
        "# Preprocessing"
      ]
    },
    {
      "cell_type": "code",
      "execution_count": null,
      "metadata": {
        "id": "SPspsjZPrWpE",
        "colab": {
          "base_uri": "https://localhost:8080/"
        },
        "outputId": "0279af15-33bb-4164-8187-6fbc1c447642"
      },
      "outputs": [
        {
          "output_type": "stream",
          "name": "stdout",
          "text": [
            "Collecting vaderSentiment\n",
            "  Downloading vaderSentiment-3.3.2-py2.py3-none-any.whl.metadata (572 bytes)\n",
            "Requirement already satisfied: requests in /usr/local/lib/python3.10/dist-packages (from vaderSentiment) (2.32.3)\n",
            "Requirement already satisfied: charset-normalizer<4,>=2 in /usr/local/lib/python3.10/dist-packages (from requests->vaderSentiment) (3.4.0)\n",
            "Requirement already satisfied: idna<4,>=2.5 in /usr/local/lib/python3.10/dist-packages (from requests->vaderSentiment) (3.10)\n",
            "Requirement already satisfied: urllib3<3,>=1.21.1 in /usr/local/lib/python3.10/dist-packages (from requests->vaderSentiment) (2.2.3)\n",
            "Requirement already satisfied: certifi>=2017.4.17 in /usr/local/lib/python3.10/dist-packages (from requests->vaderSentiment) (2024.8.30)\n",
            "Downloading vaderSentiment-3.3.2-py2.py3-none-any.whl (125 kB)\n",
            "\u001b[2K   \u001b[90m━━━━━━━━━━━━━━━━━━━━━━━━━━━━━━━━━━━━━━━━\u001b[0m \u001b[32m126.0/126.0 kB\u001b[0m \u001b[31m4.7 MB/s\u001b[0m eta \u001b[36m0:00:00\u001b[0m\n",
            "\u001b[?25hInstalling collected packages: vaderSentiment\n",
            "Successfully installed vaderSentiment-3.3.2\n",
            "Requirement already satisfied: requests in /usr/local/lib/python3.10/dist-packages (2.32.3)\n",
            "Requirement already satisfied: charset-normalizer<4,>=2 in /usr/local/lib/python3.10/dist-packages (from requests) (3.4.0)\n",
            "Requirement already satisfied: idna<4,>=2.5 in /usr/local/lib/python3.10/dist-packages (from requests) (3.10)\n",
            "Requirement already satisfied: urllib3<3,>=1.21.1 in /usr/local/lib/python3.10/dist-packages (from requests) (2.2.3)\n",
            "Requirement already satisfied: certifi>=2017.4.17 in /usr/local/lib/python3.10/dist-packages (from requests) (2024.8.30)\n",
            "Collecting Sastrawi\n",
            "  Downloading Sastrawi-1.0.1-py2.py3-none-any.whl.metadata (909 bytes)\n",
            "Downloading Sastrawi-1.0.1-py2.py3-none-any.whl (209 kB)\n",
            "\u001b[2K   \u001b[90m━━━━━━━━━━━━━━━━━━━━━━━━━━━━━━━━━━━━━━━━\u001b[0m \u001b[32m209.7/209.7 kB\u001b[0m \u001b[31m4.5 MB/s\u001b[0m eta \u001b[36m0:00:00\u001b[0m\n",
            "\u001b[?25hInstalling collected packages: Sastrawi\n",
            "Successfully installed Sastrawi-1.0.1\n",
            "Collecting deep-translator\n",
            "  Downloading deep_translator-1.11.4-py3-none-any.whl.metadata (30 kB)\n",
            "Requirement already satisfied: beautifulsoup4<5.0.0,>=4.9.1 in /usr/local/lib/python3.10/dist-packages (from deep-translator) (4.12.3)\n",
            "Requirement already satisfied: requests<3.0.0,>=2.23.0 in /usr/local/lib/python3.10/dist-packages (from deep-translator) (2.32.3)\n",
            "Requirement already satisfied: soupsieve>1.2 in /usr/local/lib/python3.10/dist-packages (from beautifulsoup4<5.0.0,>=4.9.1->deep-translator) (2.6)\n",
            "Requirement already satisfied: charset-normalizer<4,>=2 in /usr/local/lib/python3.10/dist-packages (from requests<3.0.0,>=2.23.0->deep-translator) (3.4.0)\n",
            "Requirement already satisfied: idna<4,>=2.5 in /usr/local/lib/python3.10/dist-packages (from requests<3.0.0,>=2.23.0->deep-translator) (3.10)\n",
            "Requirement already satisfied: urllib3<3,>=1.21.1 in /usr/local/lib/python3.10/dist-packages (from requests<3.0.0,>=2.23.0->deep-translator) (2.2.3)\n",
            "Requirement already satisfied: certifi>=2017.4.17 in /usr/local/lib/python3.10/dist-packages (from requests<3.0.0,>=2.23.0->deep-translator) (2024.8.30)\n",
            "Downloading deep_translator-1.11.4-py3-none-any.whl (42 kB)\n",
            "\u001b[2K   \u001b[90m━━━━━━━━━━━━━━━━━━━━━━━━━━━━━━━━━━━━━━━━\u001b[0m \u001b[32m42.3/42.3 kB\u001b[0m \u001b[31m1.9 MB/s\u001b[0m eta \u001b[36m0:00:00\u001b[0m\n",
            "\u001b[?25hInstalling collected packages: deep-translator\n",
            "Successfully installed deep-translator-1.11.4\n",
            "Requirement already satisfied: textblob in /usr/local/lib/python3.10/dist-packages (0.17.1)\n",
            "Requirement already satisfied: nltk>=3.1 in /usr/local/lib/python3.10/dist-packages (from textblob) (3.9.1)\n",
            "Requirement already satisfied: click in /usr/local/lib/python3.10/dist-packages (from nltk>=3.1->textblob) (8.1.7)\n",
            "Requirement already satisfied: joblib in /usr/local/lib/python3.10/dist-packages (from nltk>=3.1->textblob) (1.4.2)\n",
            "Requirement already satisfied: regex>=2021.8.3 in /usr/local/lib/python3.10/dist-packages (from nltk>=3.1->textblob) (2024.9.11)\n",
            "Requirement already satisfied: tqdm in /usr/local/lib/python3.10/dist-packages (from nltk>=3.1->textblob) (4.66.6)\n"
          ]
        }
      ],
      "source": [
        "import pandas as pd\n",
        "from sklearn.model_selection import train_test_split\n",
        "from sklearn.ensemble import RandomForestClassifier\n",
        "from sklearn.metrics import classification_report, confusion_matrix, accuracy_score\n",
        "from sklearn.feature_extraction.text import TfidfVectorizer\n",
        "from sklearn.svm import SVC\n",
        "!pip install vaderSentiment\n",
        "from vaderSentiment.vaderSentiment import SentimentIntensityAnalyzer\n",
        "import seaborn as sns\n",
        "import matplotlib.pyplot as plt\n",
        "import re\n",
        "import string\n",
        "!pip install requests\n",
        "import gensim\n",
        "from gensim.models import FastText\n",
        "from gensim.models import KeyedVectors, Word2Vec\n",
        "\n",
        "import nltk\n",
        "from nltk.stem import PorterStemmer\n",
        "from nltk.tokenize import word_tokenize, sent_tokenize\n",
        "from nltk.probability import FreqDist\n",
        "from nltk.corpus import stopwords\n",
        "\n",
        "!pip install Sastrawi\n",
        "from Sastrawi.Stemmer.StemmerFactory import StemmerFactory\n",
        "from Sastrawi.StopWordRemover.StopWordRemoverFactory import StopWordRemoverFactory\n",
        "\n",
        "!pip install deep-translator\n",
        "from deep_translator import GoogleTranslator\n",
        "\n",
        "!pip install textblob\n",
        "from textblob import TextBlob"
      ]
    },
    {
      "cell_type": "code",
      "execution_count": 1,
      "metadata": {
        "colab": {
          "base_uri": "https://localhost:8080/",
          "height": 219
        },
        "id": "WmhRtsJZsOFQ",
        "outputId": "1851c3fc-7c8e-40c4-f994-44d27fb35311"
      },
      "outputs": [
        {
          "output_type": "error",
          "ename": "NameError",
          "evalue": "name 'pd' is not defined",
          "traceback": [
            "\u001b[0;31m---------------------------------------------------------------------------\u001b[0m",
            "\u001b[0;31mNameError\u001b[0m                                 Traceback (most recent call last)",
            "\u001b[0;32m<ipython-input-1-dc4d962a8730>\u001b[0m in \u001b[0;36m<cell line: 4>\u001b[0;34m()\u001b[0m\n\u001b[1;32m      2\u001b[0m \u001b[0;34m\u001b[0m\u001b[0m\n\u001b[1;32m      3\u001b[0m \u001b[0murl\u001b[0m \u001b[0;34m=\u001b[0m \u001b[0;34m'https://drive.google.com/uc?id=1lnxdIAsd9YVVE01SbmKoxUU-WzVriMNb'\u001b[0m\u001b[0;34m\u001b[0m\u001b[0;34m\u001b[0m\u001b[0m\n\u001b[0;32m----> 4\u001b[0;31m \u001b[0mdata\u001b[0m \u001b[0;34m=\u001b[0m \u001b[0mpd\u001b[0m\u001b[0;34m.\u001b[0m\u001b[0mread_csv\u001b[0m\u001b[0;34m(\u001b[0m\u001b[0murl\u001b[0m\u001b[0;34m,\u001b[0m \u001b[0mdelimiter\u001b[0m\u001b[0;34m=\u001b[0m\u001b[0;34m','\u001b[0m\u001b[0;34m,\u001b[0m \u001b[0mencoding\u001b[0m\u001b[0;34m=\u001b[0m\u001b[0;34m'utf-8'\u001b[0m\u001b[0;34m,\u001b[0m \u001b[0mheader\u001b[0m\u001b[0;34m=\u001b[0m\u001b[0;36m0\u001b[0m\u001b[0;34m)\u001b[0m\u001b[0;34m\u001b[0m\u001b[0;34m\u001b[0m\u001b[0m\n\u001b[0m\u001b[1;32m      5\u001b[0m \u001b[0mcomment\u001b[0m \u001b[0;34m=\u001b[0m \u001b[0mdata\u001b[0m\u001b[0;34m.\u001b[0m\u001b[0miloc\u001b[0m\u001b[0;34m[\u001b[0m\u001b[0;34m:\u001b[0m\u001b[0;34m,\u001b[0m \u001b[0;36m3\u001b[0m\u001b[0;34m]\u001b[0m\u001b[0;34m\u001b[0m\u001b[0;34m\u001b[0m\u001b[0m\n\u001b[1;32m      6\u001b[0m \u001b[0mprint\u001b[0m\u001b[0;34m(\u001b[0m\u001b[0mcomment\u001b[0m\u001b[0;34m)\u001b[0m\u001b[0;34m\u001b[0m\u001b[0;34m\u001b[0m\u001b[0m\n",
            "\u001b[0;31mNameError\u001b[0m: name 'pd' is not defined"
          ]
        }
      ],
      "source": [
        "# import data\n",
        "\n",
        "url = 'https://drive.google.com/uc?id=1lnxdIAsd9YVVE01SbmKoxUU-WzVriMNb'\n",
        "data = pd.read_csv(url, delimiter=',', encoding='utf-8', header=0)\n",
        "comment = data.iloc[:, 3]\n",
        "print(comment)"
      ]
    },
    {
      "cell_type": "markdown",
      "metadata": {
        "id": "mI9AMZ5_o07Z"
      },
      "source": [
        "# NLP\n",
        "Natural Language Processing"
      ]
    },
    {
      "cell_type": "markdown",
      "metadata": {
        "id": "C_QVz_2tz-6F"
      },
      "source": [
        "## Case folding"
      ]
    },
    {
      "cell_type": "code",
      "execution_count": null,
      "metadata": {
        "id": "7hTF5MXOvEpX"
      },
      "outputs": [],
      "source": [
        "comment_lower = comment.str.lower()"
      ]
    },
    {
      "cell_type": "code",
      "execution_count": null,
      "metadata": {
        "colab": {
          "base_uri": "https://localhost:8080/"
        },
        "id": "9LCJgrJPvbWB",
        "outputId": "844a118f-e322-4c4d-a6a0-27e78aebf182"
      },
      "outputs": [
        {
          "output_type": "stream",
          "name": "stdout",
          "text": [
            "0     klo kami warga indonesia paham sih pak ga usa...\n",
            "1      di tik tod bngak pendukung si tri bermunculan‍️\n",
            "2     tp sebenernya yaa andai pun ini bukan hoax em...\n",
            "3     pidato bahasa inggris aja masih pelan2 apalag...\n",
            "4                                        kasian pak de\n",
            "Name: full_text, dtype: object\n"
          ]
        }
      ],
      "source": [
        "comment_non_tag = comment_lower.apply(lambda x: re.sub(r'@\\w+', '', x))\n",
        "print(comment_non_tag.head())"
      ]
    },
    {
      "cell_type": "code",
      "execution_count": null,
      "metadata": {
        "colab": {
          "base_uri": "https://localhost:8080/"
        },
        "id": "6vfPflehy_2U",
        "outputId": "f7f4a808-98a8-4639-81cb-bc2697f3efa5"
      },
      "outputs": [
        {
          "output_type": "stream",
          "name": "stdout",
          "text": [
            "0       klo kami warga indonesia paham sih pak ga usa...\n",
            "1        di tik tod bngak pendukung si tri bermunculan‍️\n",
            "2       tp sebenernya yaa andai pun ini bukan hoax em...\n",
            "3       pidato bahasa inggris aja masih pelan2 apalag...\n",
            "4                                          kasian pak de\n",
            "                             ...                        \n",
            "307     peliharaan penjahat mau bikin kejahatan macam...\n",
            "308     orang awam tetap kena nih klw dah canggih kek...\n",
            "309     menguji nyali pak kapolri  dan  apakah berani...\n",
            "310      gerombolan cebong bangsat bangsa pasti bebas...\n",
            "311         sundul tagar tangkapabujanda tangkapabujanda\n",
            "Name: full_text, Length: 312, dtype: object\n"
          ]
        }
      ],
      "source": [
        "comment_no_punc = comment_non_tag.apply(lambda x: x.translate(str.maketrans(\"\", \"\", string.punctuation)))\n",
        "print(comment_no_punc)"
      ]
    },
    {
      "cell_type": "code",
      "execution_count": null,
      "metadata": {
        "colab": {
          "base_uri": "https://localhost:8080/"
        },
        "id": "mnhP1rhMzly7",
        "outputId": "72ffd094-b915-481a-9587-180d7e5ff811"
      },
      "outputs": [
        {
          "output_type": "stream",
          "name": "stdout",
          "text": [
            "0      klo kami warga indonesia paham sih pak ga usah...\n",
            "1        di tik tod bngak pendukung si tri bermunculan‍️\n",
            "2      tp sebenernya yaa andai pun ini bukan hoax ema...\n",
            "3      pidato bahasa inggris aja masih pelan2 apalagi...\n",
            "4                                          kasian pak de\n",
            "                             ...                        \n",
            "307    peliharaan penjahat mau bikin kejahatan macam ...\n",
            "308    orang awam tetap kena nih klw dah canggih kek ...\n",
            "309    menguji nyali pak kapolri dan apakah berani me...\n",
            "310    gerombolan cebong bangsat bangsa pasti bebas m...\n",
            "311         sundul tagar tangkapabujanda tangkapabujanda\n",
            "Name: full_text, Length: 312, dtype: object\n"
          ]
        }
      ],
      "source": [
        "comment_no_space = comment_no_punc.apply(lambda x: ' '.join(x.split()))\n",
        "print(comment_no_space)"
      ]
    },
    {
      "cell_type": "code",
      "execution_count": null,
      "metadata": {
        "id": "BaTIncw6dSIk"
      },
      "outputs": [],
      "source": [
        "# comment_no_space.to_excel('komen.xlsx')"
      ]
    },
    {
      "cell_type": "markdown",
      "metadata": {
        "id": "zlp0UZYzdr-W"
      },
      "source": [
        "## Cleaning\n",
        "Hapus komentar yang tidak mengandung unsur huruf/angka"
      ]
    },
    {
      "cell_type": "code",
      "execution_count": null,
      "metadata": {
        "colab": {
          "base_uri": "https://localhost:8080/"
        },
        "id": "z3x7JTP-dvAz",
        "outputId": "540c96c4-ed3f-4f7c-c09f-cd00dd5a99cd"
      },
      "outputs": [
        {
          "output_type": "stream",
          "name": "stdout",
          "text": [
            "Data sebelum cleaning:\n",
            "312\n",
            "Data setelah cleaning:\n",
            "306\n"
          ]
        }
      ],
      "source": [
        "cleaned_comments = comment_no_space.dropna()\n",
        "\n",
        "cleaned_comments = cleaned_comments[cleaned_comments.apply(lambda x: bool(re.search(r'[a-zA-Z0-9]', x)))]\n",
        "\n",
        "print(\"Data sebelum cleaning:\")\n",
        "print(comment_no_space.count())\n",
        "print(\"Data setelah cleaning:\")\n",
        "print(cleaned_comments.count())\n"
      ]
    },
    {
      "cell_type": "code",
      "execution_count": null,
      "metadata": {
        "colab": {
          "base_uri": "https://localhost:8080/"
        },
        "id": "xqL6Vlsd4OwS",
        "outputId": "274b83c2-eb0f-4248-d5d4-8ef557704470"
      },
      "outputs": [
        {
          "output_type": "stream",
          "name": "stdout",
          "text": [
            "0      klo kami warga indonesia paham sih pak ga usah...\n",
            "1        di tik tod bngak pendukung si tri bermunculan‍️\n",
            "2      tp sebenernya yaa andai pun ini bukan hoax ema...\n",
            "3      pidato bahasa inggris aja masih pelan2 apalagi...\n",
            "4                                          kasian pak de\n",
            "                             ...                        \n",
            "307    peliharaan penjahat mau bikin kejahatan macam ...\n",
            "308    orang awam tetap kena nih klw dah canggih kek ...\n",
            "309    menguji nyali pak kapolri dan apakah berani me...\n",
            "310    gerombolan cebong bangsat bangsa pasti bebas m...\n",
            "311         sundul tagar tangkapabujanda tangkapabujanda\n",
            "Name: full_text, Length: 306, dtype: object\n"
          ]
        }
      ],
      "source": [
        "print(cleaned_comments)"
      ]
    },
    {
      "cell_type": "markdown",
      "metadata": {
        "id": "1_fBtE3Pb-cE"
      },
      "source": [
        "## Formalisasi\n",
        "Formalisasi Slang Words, Formalisasi Akronim & Singkatan"
      ]
    },
    {
      "cell_type": "markdown",
      "source": [
        "### Slang Words"
      ],
      "metadata": {
        "id": "FuerN8BoK_Wu"
      }
    },
    {
      "cell_type": "code",
      "source": [
        "# !pip install requests"
      ],
      "metadata": {
        "id": "pqksWjfiOzee"
      },
      "execution_count": null,
      "outputs": []
    },
    {
      "cell_type": "code",
      "source": [
        "# # IMPORT LIBRARY SLANG WORDS DARI GITHUB\n",
        "\n",
        "# import requests\n",
        "\n",
        "# # URL file Python slang_data.py\n",
        "# url = 'https://raw.githubusercontent.com/Hyuto/indo-nlp/master/indoNLP/preprocessing/slang_data.py'\n",
        "\n",
        "# response = requests.get(url)\n",
        "\n",
        "# exec(response.text)\n",
        "\n",
        "# print(SLANG_DATA)"
      ],
      "metadata": {
        "id": "-s5T8cJlPoUU"
      },
      "execution_count": null,
      "outputs": []
    },
    {
      "cell_type": "code",
      "execution_count": null,
      "metadata": {
        "id": "C8SFJf-Jb_0u"
      },
      "outputs": [],
      "source": [
        "# # Fungsi untuk mengganti kata-kata dengan formalisasi\n",
        "# def formalize_text(text):\n",
        "#     words = text.split()\n",
        "#     words = [SLANG_DATA[word] if word in SLANG_DATA else word for word in words]\n",
        "#     return ' '.join(words)\n",
        "\n",
        "# formalized_slang_comments = cleaned_comments.apply(formalize_text)\n",
        "# print(\"Data setelah formalisasi:\")\n",
        "# print(formalized_slang_comments)"
      ]
    },
    {
      "cell_type": "markdown",
      "source": [
        "### Akronim dan Singkatan"
      ],
      "metadata": {
        "id": "X7hEGWgJRgaa"
      }
    },
    {
      "cell_type": "code",
      "source": [
        "# url = \"https://raw.githubusercontent.com/meisaputri21/Indonesian-Twitter-Emotion-Dataset/master/kamus_singkatan.csv\"\n",
        "# kamus_singkatan = pd.read_csv(url, sep=\";\", header=None, names=[\"singkatan\", \"formal\"])\n",
        "\n",
        "# singkatan_dict = dict(zip(kamus_singkatan[\"singkatan\"], kamus_singkatan[\"formal\"]))"
      ],
      "metadata": {
        "id": "qG2b_4poVEWz"
      },
      "execution_count": null,
      "outputs": []
    },
    {
      "cell_type": "code",
      "source": [
        "# # Fungsi untuk mengganti kata-kata dengan formalisasi\n",
        "# def formalisasi_singkatan(text):\n",
        "#     for singkatan, formal in singkatan_dict.items():\n",
        "#         text = re.sub(r'\\b' + re.escape(singkatan) + r'\\b', formal, text)\n",
        "#     return text\n",
        "\n",
        "# formalized_final_comments = formalized_slang_comments.apply(formalisasi_singkatan)\n",
        "\n",
        "# print(\"Data setelah formalisasi:\")\n",
        "# print(formalized_final_comments)"
      ],
      "metadata": {
        "id": "5QGuwudFS5IW"
      },
      "execution_count": null,
      "outputs": []
    },
    {
      "cell_type": "markdown",
      "metadata": {
        "id": "Qkxbrsje0FGF"
      },
      "source": [
        "## Tokenizing\n",
        "Split kalimat menjadi kata-kata"
      ]
    },
    {
      "cell_type": "code",
      "execution_count": null,
      "metadata": {
        "colab": {
          "base_uri": "https://localhost:8080/"
        },
        "id": "11Cky1ba0XXw",
        "outputId": "aa7bc213-2e0d-4160-e55e-c139de4d5609"
      },
      "outputs": [
        {
          "output_type": "stream",
          "name": "stderr",
          "text": [
            "[nltk_data] Downloading package punkt_tab to /root/nltk_data...\n",
            "[nltk_data]   Unzipping tokenizers/punkt_tab.zip.\n"
          ]
        },
        {
          "output_type": "stream",
          "name": "stdout",
          "text": [
            "0      [klo, kami, warga, indonesia, paham, sih, pak,...\n",
            "1      [di, tik, tod, bngak, pendukung, si, tri, berm...\n",
            "2      [tp, sebenernya, yaa, andai, pun, ini, bukan, ...\n",
            "3      [pidato, bahasa, inggris, aja, masih, pelan2, ...\n",
            "4                                      [kasian, pak, de]\n",
            "                             ...                        \n",
            "307    [peliharaan, penjahat, mau, bikin, kejahatan, ...\n",
            "308    [orang, awam, tetap, kena, nih, klw, dah, cang...\n",
            "309    [menguji, nyali, pak, kapolri, dan, apakah, be...\n",
            "310    [gerombolan, cebong, bangsat, bangsa, pasti, b...\n",
            "311    [sundul, tagar, tangkapabujanda, tangkapabujanda]\n",
            "Name: full_text, Length: 306, dtype: object\n"
          ]
        }
      ],
      "source": [
        "# SPLIT KATA\n",
        "nltk.download('punkt_tab')\n",
        "\n",
        "pd_comments = pd.Series(cleaned_comments)\n",
        "pd_comment_split = pd_comments.apply(lambda x: nltk.tokenize.word_tokenize(x))\n",
        "\n",
        "print(pd_comment_split)"
      ]
    },
    {
      "cell_type": "code",
      "execution_count": null,
      "metadata": {
        "id": "DWAsgvZr1rCU"
      },
      "outputs": [],
      "source": [
        "# WORD FREQUENCY\n",
        "# freq_comment_cleaned = pd_comment_split.apply(lambda x: nltk.tokenize.word_tokenize(x))\n",
        "# all_tokens = [word for sublist in freq_comment_cleaned for word in sublist]\n",
        "# freq = FreqDist(all_tokens)\n",
        "\n",
        "# print(freq.most_common())"
      ]
    },
    {
      "cell_type": "code",
      "execution_count": null,
      "metadata": {
        "id": "OVNwrthx2Z4l"
      },
      "outputs": [],
      "source": [
        "# freq.plot(30,cumulative=False)\n",
        "# plt.show()"
      ]
    },
    {
      "cell_type": "markdown",
      "metadata": {
        "id": "hk3PTYFj2nqn"
      },
      "source": [
        "## Stemming\n",
        "Mengembalikan menjadi induk kata"
      ]
    },
    {
      "cell_type": "code",
      "source": [
        "factory = StemmerFactory()\n",
        "stemmer = factory.create_stemmer()\n",
        "def stem_tokens(tokens):\n",
        "    return [stemmer.stem(word) for word in tokens]\n",
        "\n",
        "def stem_comments(pd_comment_split):\n",
        "\n",
        "    return pd_comment_split.apply(stem_tokens)\n",
        "\n",
        "pd_stemmed_comments = pd_comment_split.apply(stem_tokens)\n",
        "print(pd_stemmed_comments)"
      ],
      "metadata": {
        "colab": {
          "base_uri": "https://localhost:8080/"
        },
        "id": "s0i2IiB7dqNp",
        "outputId": "8e06e577-940f-40f8-db6c-35a5e95edd43"
      },
      "execution_count": null,
      "outputs": [
        {
          "output_type": "stream",
          "name": "stdout",
          "text": [
            "0      [klo, kami, warga, indonesia, paham, sih, pak,...\n",
            "1         [di, tik, tod, bngak, dukung, si, tri, muncul]\n",
            "2      [tp, sebenernya, yaa, andai, pun, ini, bukan, ...\n",
            "3      [pidato, bahasa, inggris, aja, masih, pelan2, ...\n",
            "4                                        [kasi, pak, de]\n",
            "                             ...                        \n",
            "307    [pelihara, jahat, mau, bikin, jahat, macam, ap...\n",
            "308    [orang, awam, tetap, kena, nih, klw, dah, cang...\n",
            "309    [uji, nyali, pak, kapolri, dan, apakah, berani...\n",
            "310    [gerombol, cebong, bangsat, bangsa, pasti, beb...\n",
            "311    [sundul, tagar, tangkapabujanda, tangkapabujanda]\n",
            "Name: full_text, Length: 306, dtype: object\n"
          ]
        }
      ]
    },
    {
      "cell_type": "markdown",
      "metadata": {
        "id": "kCkwasJM4fNA"
      },
      "source": [
        "## Remove Stopword\n",
        "Menghapus kata-kata yang tidak memberikan kontribusi"
      ]
    },
    {
      "cell_type": "code",
      "execution_count": null,
      "metadata": {
        "colab": {
          "base_uri": "https://localhost:8080/"
        },
        "id": "bvusWYMt4g84",
        "outputId": "50eb44a8-f0cf-4964-d939-9ffbf3257365"
      },
      "outputs": [
        {
          "output_type": "stream",
          "name": "stdout",
          "text": [
            "Filtered comments after stopword removal:\n",
            "0      klo warga indonesia paham sih ga pake alat tel...\n",
            "1                     tik tod bngak dukung si tri muncul\n",
            "2      tp sebenernya yaa andai hoax emang kaloo bahas...\n",
            "3      pidato bahasa inggris aja pelan2 mandarinada a...\n",
            "4                                                kasi de\n",
            "                             ...                        \n",
            "307    pelihara jahat bikin jahat bebas2 aja yg melih...\n",
            "308          orang awam kena nih klw dah canggih kek gin\n",
            "309         uji nyali kapolri berani proses pandang bulu\n",
            "310    gerombol cebong bangsat bangsa bebas sebar fit...\n",
            "311         sundul tagar tangkapabujanda tangkapabujanda\n",
            "Name: full_text, Length: 306, dtype: object\n"
          ]
        }
      ],
      "source": [
        "stopwords_url = \"https://raw.githubusercontent.com/stopwords-iso/stopwords-id/master/raw/indonesian-stopwords-complete.txt\"\n",
        "import requests\n",
        "response = requests.get(stopwords_url)\n",
        "custom_stopwords = set(response.text.splitlines())\n",
        "\n",
        "factory = StopWordRemoverFactory()\n",
        "default_stopwords = set(factory.get_stop_words())\n",
        "all_stopwords = default_stopwords.union(custom_stopwords)\n",
        "\n",
        "def remove_stopwords(tokens):\n",
        "    return [word for word in tokens if word not in all_stopwords]\n",
        "\n",
        "pd_filtered_comments = pd_stemmed_comments.apply(remove_stopwords).apply(lambda tokens: ' '.join(tokens))\n",
        "\n",
        "print(\"Filtered comments after stopword removal:\")\n",
        "print(pd_filtered_comments)\n"
      ]
    },
    {
      "cell_type": "markdown",
      "metadata": {
        "id": "EsF0Ss10Hsra"
      },
      "source": [
        "##Translating"
      ]
    },
    {
      "cell_type": "code",
      "execution_count": null,
      "metadata": {
        "id": "yMyWmi_IHxFc"
      },
      "outputs": [],
      "source": [
        "# def translate_to_english(text):\n",
        "#     return GoogleTranslator(source='auto', target='en').translate(text)\n",
        "\n",
        "\n",
        "# pd_translated_comments = pd_filtered_comments.apply(translate_to_english)\n",
        "\n",
        "# print(\"Translated comments to English:\")\n",
        "# print(pd_translated_comments)"
      ]
    },
    {
      "cell_type": "code",
      "source": [
        "# row_count = pd_translated_comments.shape[0]\n",
        "# print(f\"Jumlah data saat ini: {row_count}\")"
      ],
      "metadata": {
        "id": "U0I6rcyYV3HX"
      },
      "execution_count": null,
      "outputs": []
    },
    {
      "cell_type": "markdown",
      "metadata": {
        "id": "SbyjULAKAADa"
      },
      "source": [
        "#SVM"
      ]
    },
    {
      "cell_type": "markdown",
      "source": [
        "## Polarity and Subjectivity"
      ],
      "metadata": {
        "id": "Nlufc4S5mUIS"
      }
    },
    {
      "cell_type": "code",
      "source": [
        "def sentiment_analysis(text):\n",
        "    analyzer = SentimentIntensityAnalyzer()\n",
        "    sentiment = analyzer.polarity_scores(text)\n",
        "    polarity = sentiment['compound']\n",
        "    subjectivity = sentiment['neu']\n",
        "    return polarity, subjectivity\n"
      ],
      "metadata": {
        "id": "zLCwjgVOrESa"
      },
      "execution_count": null,
      "outputs": []
    },
    {
      "cell_type": "code",
      "execution_count": null,
      "metadata": {
        "id": "19QmnJcmAN68",
        "colab": {
          "base_uri": "https://localhost:8080/"
        },
        "outputId": "6c5820be-ffb5-42ea-d155-154e6df4ad9d"
      },
      "outputs": [
        {
          "output_type": "stream",
          "name": "stdout",
          "text": [
            "                                           full_text  Polarity  Subjectivity\n",
            "0  klo warga indonesia paham sih ga pake alat tel...    0.0000         1.000\n",
            "1                 tik tod bngak dukung si tri muncul    0.0000         1.000\n",
            "2  tp sebenernya yaa andai hoax emang kaloo bahas...   -0.2732         0.792\n",
            "3  pidato bahasa inggris aja pelan2 mandarinada a...    0.0000         1.000\n",
            "4                                            kasi de    0.0000         1.000\n"
          ]
        }
      ],
      "source": [
        "pd_sentiment = pd_filtered_comments.apply(lambda x: sentiment_analysis(str(x)))\n",
        "pd_sentiment = pd_sentiment.apply(lambda x: pd.Series(x))\n",
        "pd_sentiment.columns = ['Polarity', 'Subjectivity']\n",
        "pd_merged = pd.concat([pd_filtered_comments, pd_sentiment], axis=1)\n",
        "\n",
        "print(pd_merged.head())"
      ]
    },
    {
      "cell_type": "markdown",
      "source": [
        "## Labeling"
      ],
      "metadata": {
        "id": "ALqXge5MmbqX"
      }
    },
    {
      "cell_type": "code",
      "source": [
        "def label_sentiment(polarity):\n",
        "    if polarity > 0.1:\n",
        "        return 'Positif'\n",
        "    elif polarity < -0.1:\n",
        "        return 'Negatif'\n",
        "    else:\n",
        "        return 'Netral'"
      ],
      "metadata": {
        "id": "iLIakb7EmdiC"
      },
      "execution_count": null,
      "outputs": []
    },
    {
      "cell_type": "code",
      "source": [
        "pd_merged['Polarity'] = pd.to_numeric(pd_merged['Polarity'], errors='coerce')\n",
        "pd_merged['Analysis'] = pd_merged['Polarity'].apply(label_sentiment)\n",
        "\n",
        "pd_final = pd_merged\n",
        "\n",
        "pd_final.head()"
      ],
      "metadata": {
        "id": "XC2a1be0tQvt",
        "colab": {
          "base_uri": "https://localhost:8080/",
          "height": 206
        },
        "outputId": "d11f78f6-4d57-465b-a771-aa49e8e2fdc9"
      },
      "execution_count": null,
      "outputs": [
        {
          "output_type": "execute_result",
          "data": {
            "text/plain": [
              "                                           full_text  Polarity  Subjectivity  \\\n",
              "0  klo warga indonesia paham sih ga pake alat tel...    0.0000         1.000   \n",
              "1                 tik tod bngak dukung si tri muncul    0.0000         1.000   \n",
              "2  tp sebenernya yaa andai hoax emang kaloo bahas...   -0.2732         0.792   \n",
              "3  pidato bahasa inggris aja pelan2 mandarinada a...    0.0000         1.000   \n",
              "4                                            kasi de    0.0000         1.000   \n",
              "\n",
              "  Analysis  \n",
              "0   Netral  \n",
              "1   Netral  \n",
              "2  Negatif  \n",
              "3   Netral  \n",
              "4   Netral  "
            ],
            "text/html": [
              "\n",
              "  <div id=\"df-dee5492d-ec8f-4a25-8331-59d024bfe3a3\" class=\"colab-df-container\">\n",
              "    <div>\n",
              "<style scoped>\n",
              "    .dataframe tbody tr th:only-of-type {\n",
              "        vertical-align: middle;\n",
              "    }\n",
              "\n",
              "    .dataframe tbody tr th {\n",
              "        vertical-align: top;\n",
              "    }\n",
              "\n",
              "    .dataframe thead th {\n",
              "        text-align: right;\n",
              "    }\n",
              "</style>\n",
              "<table border=\"1\" class=\"dataframe\">\n",
              "  <thead>\n",
              "    <tr style=\"text-align: right;\">\n",
              "      <th></th>\n",
              "      <th>full_text</th>\n",
              "      <th>Polarity</th>\n",
              "      <th>Subjectivity</th>\n",
              "      <th>Analysis</th>\n",
              "    </tr>\n",
              "  </thead>\n",
              "  <tbody>\n",
              "    <tr>\n",
              "      <th>0</th>\n",
              "      <td>klo warga indonesia paham sih ga pake alat tel...</td>\n",
              "      <td>0.0000</td>\n",
              "      <td>1.000</td>\n",
              "      <td>Netral</td>\n",
              "    </tr>\n",
              "    <tr>\n",
              "      <th>1</th>\n",
              "      <td>tik tod bngak dukung si tri muncul</td>\n",
              "      <td>0.0000</td>\n",
              "      <td>1.000</td>\n",
              "      <td>Netral</td>\n",
              "    </tr>\n",
              "    <tr>\n",
              "      <th>2</th>\n",
              "      <td>tp sebenernya yaa andai hoax emang kaloo bahas...</td>\n",
              "      <td>-0.2732</td>\n",
              "      <td>0.792</td>\n",
              "      <td>Negatif</td>\n",
              "    </tr>\n",
              "    <tr>\n",
              "      <th>3</th>\n",
              "      <td>pidato bahasa inggris aja pelan2 mandarinada a...</td>\n",
              "      <td>0.0000</td>\n",
              "      <td>1.000</td>\n",
              "      <td>Netral</td>\n",
              "    </tr>\n",
              "    <tr>\n",
              "      <th>4</th>\n",
              "      <td>kasi de</td>\n",
              "      <td>0.0000</td>\n",
              "      <td>1.000</td>\n",
              "      <td>Netral</td>\n",
              "    </tr>\n",
              "  </tbody>\n",
              "</table>\n",
              "</div>\n",
              "    <div class=\"colab-df-buttons\">\n",
              "\n",
              "  <div class=\"colab-df-container\">\n",
              "    <button class=\"colab-df-convert\" onclick=\"convertToInteractive('df-dee5492d-ec8f-4a25-8331-59d024bfe3a3')\"\n",
              "            title=\"Convert this dataframe to an interactive table.\"\n",
              "            style=\"display:none;\">\n",
              "\n",
              "  <svg xmlns=\"http://www.w3.org/2000/svg\" height=\"24px\" viewBox=\"0 -960 960 960\">\n",
              "    <path d=\"M120-120v-720h720v720H120Zm60-500h600v-160H180v160Zm220 220h160v-160H400v160Zm0 220h160v-160H400v160ZM180-400h160v-160H180v160Zm440 0h160v-160H620v160ZM180-180h160v-160H180v160Zm440 0h160v-160H620v160Z\"/>\n",
              "  </svg>\n",
              "    </button>\n",
              "\n",
              "  <style>\n",
              "    .colab-df-container {\n",
              "      display:flex;\n",
              "      gap: 12px;\n",
              "    }\n",
              "\n",
              "    .colab-df-convert {\n",
              "      background-color: #E8F0FE;\n",
              "      border: none;\n",
              "      border-radius: 50%;\n",
              "      cursor: pointer;\n",
              "      display: none;\n",
              "      fill: #1967D2;\n",
              "      height: 32px;\n",
              "      padding: 0 0 0 0;\n",
              "      width: 32px;\n",
              "    }\n",
              "\n",
              "    .colab-df-convert:hover {\n",
              "      background-color: #E2EBFA;\n",
              "      box-shadow: 0px 1px 2px rgba(60, 64, 67, 0.3), 0px 1px 3px 1px rgba(60, 64, 67, 0.15);\n",
              "      fill: #174EA6;\n",
              "    }\n",
              "\n",
              "    .colab-df-buttons div {\n",
              "      margin-bottom: 4px;\n",
              "    }\n",
              "\n",
              "    [theme=dark] .colab-df-convert {\n",
              "      background-color: #3B4455;\n",
              "      fill: #D2E3FC;\n",
              "    }\n",
              "\n",
              "    [theme=dark] .colab-df-convert:hover {\n",
              "      background-color: #434B5C;\n",
              "      box-shadow: 0px 1px 3px 1px rgba(0, 0, 0, 0.15);\n",
              "      filter: drop-shadow(0px 1px 2px rgba(0, 0, 0, 0.3));\n",
              "      fill: #FFFFFF;\n",
              "    }\n",
              "  </style>\n",
              "\n",
              "    <script>\n",
              "      const buttonEl =\n",
              "        document.querySelector('#df-dee5492d-ec8f-4a25-8331-59d024bfe3a3 button.colab-df-convert');\n",
              "      buttonEl.style.display =\n",
              "        google.colab.kernel.accessAllowed ? 'block' : 'none';\n",
              "\n",
              "      async function convertToInteractive(key) {\n",
              "        const element = document.querySelector('#df-dee5492d-ec8f-4a25-8331-59d024bfe3a3');\n",
              "        const dataTable =\n",
              "          await google.colab.kernel.invokeFunction('convertToInteractive',\n",
              "                                                    [key], {});\n",
              "        if (!dataTable) return;\n",
              "\n",
              "        const docLinkHtml = 'Like what you see? Visit the ' +\n",
              "          '<a target=\"_blank\" href=https://colab.research.google.com/notebooks/data_table.ipynb>data table notebook</a>'\n",
              "          + ' to learn more about interactive tables.';\n",
              "        element.innerHTML = '';\n",
              "        dataTable['output_type'] = 'display_data';\n",
              "        await google.colab.output.renderOutput(dataTable, element);\n",
              "        const docLink = document.createElement('div');\n",
              "        docLink.innerHTML = docLinkHtml;\n",
              "        element.appendChild(docLink);\n",
              "      }\n",
              "    </script>\n",
              "  </div>\n",
              "\n",
              "\n",
              "<div id=\"df-1155dbe4-bb60-42a7-8041-9d4a5869954a\">\n",
              "  <button class=\"colab-df-quickchart\" onclick=\"quickchart('df-1155dbe4-bb60-42a7-8041-9d4a5869954a')\"\n",
              "            title=\"Suggest charts\"\n",
              "            style=\"display:none;\">\n",
              "\n",
              "<svg xmlns=\"http://www.w3.org/2000/svg\" height=\"24px\"viewBox=\"0 0 24 24\"\n",
              "     width=\"24px\">\n",
              "    <g>\n",
              "        <path d=\"M19 3H5c-1.1 0-2 .9-2 2v14c0 1.1.9 2 2 2h14c1.1 0 2-.9 2-2V5c0-1.1-.9-2-2-2zM9 17H7v-7h2v7zm4 0h-2V7h2v10zm4 0h-2v-4h2v4z\"/>\n",
              "    </g>\n",
              "</svg>\n",
              "  </button>\n",
              "\n",
              "<style>\n",
              "  .colab-df-quickchart {\n",
              "      --bg-color: #E8F0FE;\n",
              "      --fill-color: #1967D2;\n",
              "      --hover-bg-color: #E2EBFA;\n",
              "      --hover-fill-color: #174EA6;\n",
              "      --disabled-fill-color: #AAA;\n",
              "      --disabled-bg-color: #DDD;\n",
              "  }\n",
              "\n",
              "  [theme=dark] .colab-df-quickchart {\n",
              "      --bg-color: #3B4455;\n",
              "      --fill-color: #D2E3FC;\n",
              "      --hover-bg-color: #434B5C;\n",
              "      --hover-fill-color: #FFFFFF;\n",
              "      --disabled-bg-color: #3B4455;\n",
              "      --disabled-fill-color: #666;\n",
              "  }\n",
              "\n",
              "  .colab-df-quickchart {\n",
              "    background-color: var(--bg-color);\n",
              "    border: none;\n",
              "    border-radius: 50%;\n",
              "    cursor: pointer;\n",
              "    display: none;\n",
              "    fill: var(--fill-color);\n",
              "    height: 32px;\n",
              "    padding: 0;\n",
              "    width: 32px;\n",
              "  }\n",
              "\n",
              "  .colab-df-quickchart:hover {\n",
              "    background-color: var(--hover-bg-color);\n",
              "    box-shadow: 0 1px 2px rgba(60, 64, 67, 0.3), 0 1px 3px 1px rgba(60, 64, 67, 0.15);\n",
              "    fill: var(--button-hover-fill-color);\n",
              "  }\n",
              "\n",
              "  .colab-df-quickchart-complete:disabled,\n",
              "  .colab-df-quickchart-complete:disabled:hover {\n",
              "    background-color: var(--disabled-bg-color);\n",
              "    fill: var(--disabled-fill-color);\n",
              "    box-shadow: none;\n",
              "  }\n",
              "\n",
              "  .colab-df-spinner {\n",
              "    border: 2px solid var(--fill-color);\n",
              "    border-color: transparent;\n",
              "    border-bottom-color: var(--fill-color);\n",
              "    animation:\n",
              "      spin 1s steps(1) infinite;\n",
              "  }\n",
              "\n",
              "  @keyframes spin {\n",
              "    0% {\n",
              "      border-color: transparent;\n",
              "      border-bottom-color: var(--fill-color);\n",
              "      border-left-color: var(--fill-color);\n",
              "    }\n",
              "    20% {\n",
              "      border-color: transparent;\n",
              "      border-left-color: var(--fill-color);\n",
              "      border-top-color: var(--fill-color);\n",
              "    }\n",
              "    30% {\n",
              "      border-color: transparent;\n",
              "      border-left-color: var(--fill-color);\n",
              "      border-top-color: var(--fill-color);\n",
              "      border-right-color: var(--fill-color);\n",
              "    }\n",
              "    40% {\n",
              "      border-color: transparent;\n",
              "      border-right-color: var(--fill-color);\n",
              "      border-top-color: var(--fill-color);\n",
              "    }\n",
              "    60% {\n",
              "      border-color: transparent;\n",
              "      border-right-color: var(--fill-color);\n",
              "    }\n",
              "    80% {\n",
              "      border-color: transparent;\n",
              "      border-right-color: var(--fill-color);\n",
              "      border-bottom-color: var(--fill-color);\n",
              "    }\n",
              "    90% {\n",
              "      border-color: transparent;\n",
              "      border-bottom-color: var(--fill-color);\n",
              "    }\n",
              "  }\n",
              "</style>\n",
              "\n",
              "  <script>\n",
              "    async function quickchart(key) {\n",
              "      const quickchartButtonEl =\n",
              "        document.querySelector('#' + key + ' button');\n",
              "      quickchartButtonEl.disabled = true;  // To prevent multiple clicks.\n",
              "      quickchartButtonEl.classList.add('colab-df-spinner');\n",
              "      try {\n",
              "        const charts = await google.colab.kernel.invokeFunction(\n",
              "            'suggestCharts', [key], {});\n",
              "      } catch (error) {\n",
              "        console.error('Error during call to suggestCharts:', error);\n",
              "      }\n",
              "      quickchartButtonEl.classList.remove('colab-df-spinner');\n",
              "      quickchartButtonEl.classList.add('colab-df-quickchart-complete');\n",
              "    }\n",
              "    (() => {\n",
              "      let quickchartButtonEl =\n",
              "        document.querySelector('#df-1155dbe4-bb60-42a7-8041-9d4a5869954a button');\n",
              "      quickchartButtonEl.style.display =\n",
              "        google.colab.kernel.accessAllowed ? 'block' : 'none';\n",
              "    })();\n",
              "  </script>\n",
              "</div>\n",
              "\n",
              "    </div>\n",
              "  </div>\n"
            ],
            "application/vnd.google.colaboratory.intrinsic+json": {
              "type": "dataframe",
              "variable_name": "pd_final",
              "summary": "{\n  \"name\": \"pd_final\",\n  \"rows\": 306,\n  \"fields\": [\n    {\n      \"column\": \"full_text\",\n      \"properties\": {\n        \"dtype\": \"string\",\n        \"num_unique_values\": 300,\n        \"samples\": [\n          \"bs d tangkep piara mukidi aman\",\n          \"lihat bagaimanakerja polisi kalo\",\n          \"not\"\n        ],\n        \"semantic_type\": \"\",\n        \"description\": \"\"\n      }\n    },\n    {\n      \"column\": \"Polarity\",\n      \"properties\": {\n        \"dtype\": \"number\",\n        \"std\": 0.13083320956534175,\n        \"min\": -0.6808,\n        \"max\": 0.5859,\n        \"num_unique_values\": 25,\n        \"samples\": [\n          0.1027,\n          -0.6808,\n          0.0\n        ],\n        \"semantic_type\": \"\",\n        \"description\": \"\"\n      }\n    },\n    {\n      \"column\": \"Subjectivity\",\n      \"properties\": {\n        \"dtype\": \"number\",\n        \"std\": 0.15067828488982954,\n        \"min\": 0.0,\n        \"max\": 1.0,\n        \"num_unique_values\": 34,\n        \"samples\": [\n          0.866,\n          0.778,\n          0.655\n        ],\n        \"semantic_type\": \"\",\n        \"description\": \"\"\n      }\n    },\n    {\n      \"column\": \"Analysis\",\n      \"properties\": {\n        \"dtype\": \"category\",\n        \"num_unique_values\": 3,\n        \"samples\": [\n          \"Netral\",\n          \"Negatif\",\n          \"Positif\"\n        ],\n        \"semantic_type\": \"\",\n        \"description\": \"\"\n      }\n    }\n  ]\n}"
            }
          },
          "metadata": {},
          "execution_count": 25
        }
      ]
    },
    {
      "cell_type": "markdown",
      "source": [
        "# Result"
      ],
      "metadata": {
        "id": "P_nIKS0OsgMn"
      }
    },
    {
      "cell_type": "code",
      "source": [
        "sentiment_counts = pd_final['Analysis'].value_counts()"
      ],
      "metadata": {
        "id": "crXhwuyYulQD"
      },
      "execution_count": null,
      "outputs": []
    },
    {
      "cell_type": "code",
      "source": [
        "negative_count = sentiment_counts.get('Negatif', 0)\n",
        "print(f\"Jumlah Negatif: {negative_count}\")\n",
        "\n",
        "positive_count = sentiment_counts.get('Positif', 0)\n",
        "print(f\"Jumlah Positif: {positive_count}\")\n",
        "\n",
        "netral_count = sentiment_counts.get('Netral', 0)\n",
        "print(f\"Jumlah Netral: {netral_count}\")\n",
        "\n",
        "\n",
        "valid_sentiments = ['Negatif', 'Positif', 'Netral']\n",
        "\n",
        "invalid_count = pd_final[~pd_final['Analysis'].isin(valid_sentiments)].shape[0]\n",
        "\n",
        "print(f\"Jumlah Invalid: {invalid_count}\")"
      ],
      "metadata": {
        "id": "UwMHmtO-shnY",
        "colab": {
          "base_uri": "https://localhost:8080/"
        },
        "outputId": "07f37d3c-d02e-4175-d9ea-873640ef861e"
      },
      "execution_count": null,
      "outputs": [
        {
          "output_type": "stream",
          "name": "stdout",
          "text": [
            "Jumlah Negatif: 25\n",
            "Jumlah Positif: 14\n",
            "Jumlah Netral: 267\n",
            "Jumlah Invalid: 0\n"
          ]
        }
      ]
    },
    {
      "cell_type": "code",
      "source": [
        "categories = ['Negatif', 'Positif', 'Netral']\n",
        "counts = [negative_count, positive_count, netral_count]\n",
        "total = sum(counts)\n",
        "\n",
        "percentages = [(count / total) * 100 if total > 0 else 0 for count in counts]\n",
        "\n",
        "\n",
        "plt.figure(figsize=(3, 3))\n",
        "plt.bar(categories, counts, color=['red', 'green', 'blue'], alpha=0.7)\n",
        "\n",
        "plt.xlabel('Sentimen', fontsize=10)\n",
        "plt.ylabel('Jumlah', fontsize=10)\n",
        "plt.title('% Analisis Sentimen', fontsize=12)\n",
        "\n",
        "for i, (count, percentage) in enumerate(zip(counts, percentages)):\n",
        "    plt.text(i, count + 1, f\"{count} ({percentage:.1f}%)\", ha='center', fontsize=9)\n",
        "\n",
        "plt.show()"
      ],
      "metadata": {
        "id": "yI8DVUzSuOwS",
        "colab": {
          "base_uri": "https://localhost:8080/",
          "height": 333
        },
        "outputId": "12dca3a3-2f2c-49bf-c5a9-47fa4905ba81"
      },
      "execution_count": null,
      "outputs": [
        {
          "output_type": "display_data",
          "data": {
            "text/plain": [
              "<Figure size 300x300 with 1 Axes>"
            ],
            "image/png": "[encoded data removed]"
          },
          "metadata": {}
        }
      ]
    },
    {
      "cell_type": "markdown",
      "source": [
        "# Evaluasi\n",
        "Menggunakan 70% training data dan 30% testing data"
      ],
      "metadata": {
        "id": "kfKLVd2j1fc7"
      }
    },
    {
      "cell_type": "code",
      "source": [
        "df = pd.DataFrame(pd_final)\n",
        "df"
      ],
      "metadata": {
        "colab": {
          "base_uri": "https://localhost:8080/",
          "height": 423
        },
        "id": "16TrIl-WHV9K",
        "outputId": "7e642bd1-c4e3-45e3-9888-0e8214a76068"
      },
      "execution_count": null,
      "outputs": [
        {
          "output_type": "execute_result",
          "data": {
            "text/plain": [
              "                                             full_text  Polarity  \\\n",
              "0    klo warga indonesia paham sih ga pake alat tel...    0.0000   \n",
              "1                   tik tod bngak dukung si tri muncul    0.0000   \n",
              "2    tp sebenernya yaa andai hoax emang kaloo bahas...   -0.2732   \n",
              "3    pidato bahasa inggris aja pelan2 mandarinada a...    0.0000   \n",
              "4                                              kasi de    0.0000   \n",
              "..                                                 ...       ...   \n",
              "307  pelihara jahat bikin jahat bebas2 aja yg melih...    0.0000   \n",
              "308        orang awam kena nih klw dah canggih kek gin    0.0000   \n",
              "309       uji nyali kapolri berani proses pandang bulu    0.0000   \n",
              "310  gerombol cebong bangsat bangsa bebas sebar fit...    0.0000   \n",
              "311       sundul tagar tangkapabujanda tangkapabujanda    0.0000   \n",
              "\n",
              "     Subjectivity Analysis  \n",
              "0           1.000   Netral  \n",
              "1           1.000   Netral  \n",
              "2           0.792  Negatif  \n",
              "3           1.000   Netral  \n",
              "4           1.000   Netral  \n",
              "..            ...      ...  \n",
              "307         1.000   Netral  \n",
              "308         1.000   Netral  \n",
              "309         1.000   Netral  \n",
              "310         1.000   Netral  \n",
              "311         1.000   Netral  \n",
              "\n",
              "[306 rows x 4 columns]"
            ],
            "text/html": [
              "\n",
              "  <div id=\"df-f1e93705-3336-4cea-a1cf-561637ed2065\" class=\"colab-df-container\">\n",
              "    <div>\n",
              "<style scoped>\n",
              "    .dataframe tbody tr th:only-of-type {\n",
              "        vertical-align: middle;\n",
              "    }\n",
              "\n",
              "    .dataframe tbody tr th {\n",
              "        vertical-align: top;\n",
              "    }\n",
              "\n",
              "    .dataframe thead th {\n",
              "        text-align: right;\n",
              "    }\n",
              "</style>\n",
              "<table border=\"1\" class=\"dataframe\">\n",
              "  <thead>\n",
              "    <tr style=\"text-align: right;\">\n",
              "      <th></th>\n",
              "      <th>full_text</th>\n",
              "      <th>Polarity</th>\n",
              "      <th>Subjectivity</th>\n",
              "      <th>Analysis</th>\n",
              "    </tr>\n",
              "  </thead>\n",
              "  <tbody>\n",
              "    <tr>\n",
              "      <th>0</th>\n",
              "      <td>klo warga indonesia paham sih ga pake alat tel...</td>\n",
              "      <td>0.0000</td>\n",
              "      <td>1.000</td>\n",
              "      <td>Netral</td>\n",
              "    </tr>\n",
              "    <tr>\n",
              "      <th>1</th>\n",
              "      <td>tik tod bngak dukung si tri muncul</td>\n",
              "      <td>0.0000</td>\n",
              "      <td>1.000</td>\n",
              "      <td>Netral</td>\n",
              "    </tr>\n",
              "    <tr>\n",
              "      <th>2</th>\n",
              "      <td>tp sebenernya yaa andai hoax emang kaloo bahas...</td>\n",
              "      <td>-0.2732</td>\n",
              "      <td>0.792</td>\n",
              "      <td>Negatif</td>\n",
              "    </tr>\n",
              "    <tr>\n",
              "      <th>3</th>\n",
              "      <td>pidato bahasa inggris aja pelan2 mandarinada a...</td>\n",
              "      <td>0.0000</td>\n",
              "      <td>1.000</td>\n",
              "      <td>Netral</td>\n",
              "    </tr>\n",
              "    <tr>\n",
              "      <th>4</th>\n",
              "      <td>kasi de</td>\n",
              "      <td>0.0000</td>\n",
              "      <td>1.000</td>\n",
              "      <td>Netral</td>\n",
              "    </tr>\n",
              "    <tr>\n",
              "      <th>...</th>\n",
              "      <td>...</td>\n",
              "      <td>...</td>\n",
              "      <td>...</td>\n",
              "      <td>...</td>\n",
              "    </tr>\n",
              "    <tr>\n",
              "      <th>307</th>\n",
              "      <td>pelihara jahat bikin jahat bebas2 aja yg melih...</td>\n",
              "      <td>0.0000</td>\n",
              "      <td>1.000</td>\n",
              "      <td>Netral</td>\n",
              "    </tr>\n",
              "    <tr>\n",
              "      <th>308</th>\n",
              "      <td>orang awam kena nih klw dah canggih kek gin</td>\n",
              "      <td>0.0000</td>\n",
              "      <td>1.000</td>\n",
              "      <td>Netral</td>\n",
              "    </tr>\n",
              "    <tr>\n",
              "      <th>309</th>\n",
              "      <td>uji nyali kapolri berani proses pandang bulu</td>\n",
              "      <td>0.0000</td>\n",
              "      <td>1.000</td>\n",
              "      <td>Netral</td>\n",
              "    </tr>\n",
              "    <tr>\n",
              "      <th>310</th>\n",
              "      <td>gerombol cebong bangsat bangsa bebas sebar fit...</td>\n",
              "      <td>0.0000</td>\n",
              "      <td>1.000</td>\n",
              "      <td>Netral</td>\n",
              "    </tr>\n",
              "    <tr>\n",
              "      <th>311</th>\n",
              "      <td>sundul tagar tangkapabujanda tangkapabujanda</td>\n",
              "      <td>0.0000</td>\n",
              "      <td>1.000</td>\n",
              "      <td>Netral</td>\n",
              "    </tr>\n",
              "  </tbody>\n",
              "</table>\n",
              "<p>306 rows × 4 columns</p>\n",
              "</div>\n",
              "    <div class=\"colab-df-buttons\">\n",
              "\n",
              "  <div class=\"colab-df-container\">\n",
              "    <button class=\"colab-df-convert\" onclick=\"convertToInteractive('df-f1e93705-3336-4cea-a1cf-561637ed2065')\"\n",
              "            title=\"Convert this dataframe to an interactive table.\"\n",
              "            style=\"display:none;\">\n",
              "\n",
              "  <svg xmlns=\"http://www.w3.org/2000/svg\" height=\"24px\" viewBox=\"0 -960 960 960\">\n",
              "    <path d=\"M120-120v-720h720v720H120Zm60-500h600v-160H180v160Zm220 220h160v-160H400v160Zm0 220h160v-160H400v160ZM180-400h160v-160H180v160Zm440 0h160v-160H620v160ZM180-180h160v-160H180v160Zm440 0h160v-160H620v160Z\"/>\n",
              "  </svg>\n",
              "    </button>\n",
              "\n",
              "  <style>\n",
              "    .colab-df-container {\n",
              "      display:flex;\n",
              "      gap: 12px;\n",
              "    }\n",
              "\n",
              "    .colab-df-convert {\n",
              "      background-color: #E8F0FE;\n",
              "      border: none;\n",
              "      border-radius: 50%;\n",
              "      cursor: pointer;\n",
              "      display: none;\n",
              "      fill: #1967D2;\n",
              "      height: 32px;\n",
              "      padding: 0 0 0 0;\n",
              "      width: 32px;\n",
              "    }\n",
              "\n",
              "    .colab-df-convert:hover {\n",
              "      background-color: #E2EBFA;\n",
              "      box-shadow: 0px 1px 2px rgba(60, 64, 67, 0.3), 0px 1px 3px 1px rgba(60, 64, 67, 0.15);\n",
              "      fill: #174EA6;\n",
              "    }\n",
              "\n",
              "    .colab-df-buttons div {\n",
              "      margin-bottom: 4px;\n",
              "    }\n",
              "\n",
              "    [theme=dark] .colab-df-convert {\n",
              "      background-color: #3B4455;\n",
              "      fill: #D2E3FC;\n",
              "    }\n",
              "\n",
              "    [theme=dark] .colab-df-convert:hover {\n",
              "      background-color: #434B5C;\n",
              "      box-shadow: 0px 1px 3px 1px rgba(0, 0, 0, 0.15);\n",
              "      filter: drop-shadow(0px 1px 2px rgba(0, 0, 0, 0.3));\n",
              "      fill: #FFFFFF;\n",
              "    }\n",
              "  </style>\n",
              "\n",
              "    <script>\n",
              "      const buttonEl =\n",
              "        document.querySelector('#df-f1e93705-3336-4cea-a1cf-561637ed2065 button.colab-df-convert');\n",
              "      buttonEl.style.display =\n",
              "        google.colab.kernel.accessAllowed ? 'block' : 'none';\n",
              "\n",
              "      async function convertToInteractive(key) {\n",
              "        const element = document.querySelector('#df-f1e93705-3336-4cea-a1cf-561637ed2065');\n",
              "        const dataTable =\n",
              "          await google.colab.kernel.invokeFunction('convertToInteractive',\n",
              "                                                    [key], {});\n",
              "        if (!dataTable) return;\n",
              "\n",
              "        const docLinkHtml = 'Like what you see? Visit the ' +\n",
              "          '<a target=\"_blank\" href=https://colab.research.google.com/notebooks/data_table.ipynb>data table notebook</a>'\n",
              "          + ' to learn more about interactive tables.';\n",
              "        element.innerHTML = '';\n",
              "        dataTable['output_type'] = 'display_data';\n",
              "        await google.colab.output.renderOutput(dataTable, element);\n",
              "        const docLink = document.createElement('div');\n",
              "        docLink.innerHTML = docLinkHtml;\n",
              "        element.appendChild(docLink);\n",
              "      }\n",
              "    </script>\n",
              "  </div>\n",
              "\n",
              "\n",
              "<div id=\"df-9a69fdb7-8d54-468c-b30d-89e8c6458b1b\">\n",
              "  <button class=\"colab-df-quickchart\" onclick=\"quickchart('df-9a69fdb7-8d54-468c-b30d-89e8c6458b1b')\"\n",
              "            title=\"Suggest charts\"\n",
              "            style=\"display:none;\">\n",
              "\n",
              "<svg xmlns=\"http://www.w3.org/2000/svg\" height=\"24px\"viewBox=\"0 0 24 24\"\n",
              "     width=\"24px\">\n",
              "    <g>\n",
              "        <path d=\"M19 3H5c-1.1 0-2 .9-2 2v14c0 1.1.9 2 2 2h14c1.1 0 2-.9 2-2V5c0-1.1-.9-2-2-2zM9 17H7v-7h2v7zm4 0h-2V7h2v10zm4 0h-2v-4h2v4z\"/>\n",
              "    </g>\n",
              "</svg>\n",
              "  </button>\n",
              "\n",
              "<style>\n",
              "  .colab-df-quickchart {\n",
              "      --bg-color: #E8F0FE;\n",
              "      --fill-color: #1967D2;\n",
              "      --hover-bg-color: #E2EBFA;\n",
              "      --hover-fill-color: #174EA6;\n",
              "      --disabled-fill-color: #AAA;\n",
              "      --disabled-bg-color: #DDD;\n",
              "  }\n",
              "\n",
              "  [theme=dark] .colab-df-quickchart {\n",
              "      --bg-color: #3B4455;\n",
              "      --fill-color: #D2E3FC;\n",
              "      --hover-bg-color: #434B5C;\n",
              "      --hover-fill-color: #FFFFFF;\n",
              "      --disabled-bg-color: #3B4455;\n",
              "      --disabled-fill-color: #666;\n",
              "  }\n",
              "\n",
              "  .colab-df-quickchart {\n",
              "    background-color: var(--bg-color);\n",
              "    border: none;\n",
              "    border-radius: 50%;\n",
              "    cursor: pointer;\n",
              "    display: none;\n",
              "    fill: var(--fill-color);\n",
              "    height: 32px;\n",
              "    padding: 0;\n",
              "    width: 32px;\n",
              "  }\n",
              "\n",
              "  .colab-df-quickchart:hover {\n",
              "    background-color: var(--hover-bg-color);\n",
              "    box-shadow: 0 1px 2px rgba(60, 64, 67, 0.3), 0 1px 3px 1px rgba(60, 64, 67, 0.15);\n",
              "    fill: var(--button-hover-fill-color);\n",
              "  }\n",
              "\n",
              "  .colab-df-quickchart-complete:disabled,\n",
              "  .colab-df-quickchart-complete:disabled:hover {\n",
              "    background-color: var(--disabled-bg-color);\n",
              "    fill: var(--disabled-fill-color);\n",
              "    box-shadow: none;\n",
              "  }\n",
              "\n",
              "  .colab-df-spinner {\n",
              "    border: 2px solid var(--fill-color);\n",
              "    border-color: transparent;\n",
              "    border-bottom-color: var(--fill-color);\n",
              "    animation:\n",
              "      spin 1s steps(1) infinite;\n",
              "  }\n",
              "\n",
              "  @keyframes spin {\n",
              "    0% {\n",
              "      border-color: transparent;\n",
              "      border-bottom-color: var(--fill-color);\n",
              "      border-left-color: var(--fill-color);\n",
              "    }\n",
              "    20% {\n",
              "      border-color: transparent;\n",
              "      border-left-color: var(--fill-color);\n",
              "      border-top-color: var(--fill-color);\n",
              "    }\n",
              "    30% {\n",
              "      border-color: transparent;\n",
              "      border-left-color: var(--fill-color);\n",
              "      border-top-color: var(--fill-color);\n",
              "      border-right-color: var(--fill-color);\n",
              "    }\n",
              "    40% {\n",
              "      border-color: transparent;\n",
              "      border-right-color: var(--fill-color);\n",
              "      border-top-color: var(--fill-color);\n",
              "    }\n",
              "    60% {\n",
              "      border-color: transparent;\n",
              "      border-right-color: var(--fill-color);\n",
              "    }\n",
              "    80% {\n",
              "      border-color: transparent;\n",
              "      border-right-color: var(--fill-color);\n",
              "      border-bottom-color: var(--fill-color);\n",
              "    }\n",
              "    90% {\n",
              "      border-color: transparent;\n",
              "      border-bottom-color: var(--fill-color);\n",
              "    }\n",
              "  }\n",
              "</style>\n",
              "\n",
              "  <script>\n",
              "    async function quickchart(key) {\n",
              "      const quickchartButtonEl =\n",
              "        document.querySelector('#' + key + ' button');\n",
              "      quickchartButtonEl.disabled = true;  // To prevent multiple clicks.\n",
              "      quickchartButtonEl.classList.add('colab-df-spinner');\n",
              "      try {\n",
              "        const charts = await google.colab.kernel.invokeFunction(\n",
              "            'suggestCharts', [key], {});\n",
              "      } catch (error) {\n",
              "        console.error('Error during call to suggestCharts:', error);\n",
              "      }\n",
              "      quickchartButtonEl.classList.remove('colab-df-spinner');\n",
              "      quickchartButtonEl.classList.add('colab-df-quickchart-complete');\n",
              "    }\n",
              "    (() => {\n",
              "      let quickchartButtonEl =\n",
              "        document.querySelector('#df-9a69fdb7-8d54-468c-b30d-89e8c6458b1b button');\n",
              "      quickchartButtonEl.style.display =\n",
              "        google.colab.kernel.accessAllowed ? 'block' : 'none';\n",
              "    })();\n",
              "  </script>\n",
              "</div>\n",
              "\n",
              "  <div id=\"id_6ee5c740-73ee-43a1-8f8f-98d9d378720f\">\n",
              "    <style>\n",
              "      .colab-df-generate {\n",
              "        background-color: #E8F0FE;\n",
              "        border: none;\n",
              "        border-radius: 50%;\n",
              "        cursor: pointer;\n",
              "        display: none;\n",
              "        fill: #1967D2;\n",
              "        height: 32px;\n",
              "        padding: 0 0 0 0;\n",
              "        width: 32px;\n",
              "      }\n",
              "\n",
              "      .colab-df-generate:hover {\n",
              "        background-color: #E2EBFA;\n",
              "        box-shadow: 0px 1px 2px rgba(60, 64, 67, 0.3), 0px 1px 3px 1px rgba(60, 64, 67, 0.15);\n",
              "        fill: #174EA6;\n",
              "      }\n",
              "\n",
              "      [theme=dark] .colab-df-generate {\n",
              "        background-color: #3B4455;\n",
              "        fill: #D2E3FC;\n",
              "      }\n",
              "\n",
              "      [theme=dark] .colab-df-generate:hover {\n",
              "        background-color: #434B5C;\n",
              "        box-shadow: 0px 1px 3px 1px rgba(0, 0, 0, 0.15);\n",
              "        filter: drop-shadow(0px 1px 2px rgba(0, 0, 0, 0.3));\n",
              "        fill: #FFFFFF;\n",
              "      }\n",
              "    </style>\n",
              "    <button class=\"colab-df-generate\" onclick=\"generateWithVariable('df')\"\n",
              "            title=\"Generate code using this dataframe.\"\n",
              "            style=\"display:none;\">\n",
              "\n",
              "  <svg xmlns=\"http://www.w3.org/2000/svg\" height=\"24px\"viewBox=\"0 0 24 24\"\n",
              "       width=\"24px\">\n",
              "    <path d=\"M7,19H8.4L18.45,9,17,7.55,7,17.6ZM5,21V16.75L18.45,3.32a2,2,0,0,1,2.83,0l1.4,1.43a1.91,1.91,0,0,1,.58,1.4,1.91,1.91,0,0,1-.58,1.4L9.25,21ZM18.45,9,17,7.55Zm-12,3A5.31,5.31,0,0,0,4.9,8.1,5.31,5.31,0,0,0,1,6.5,5.31,5.31,0,0,0,4.9,4.9,5.31,5.31,0,0,0,6.5,1,5.31,5.31,0,0,0,8.1,4.9,5.31,5.31,0,0,0,12,6.5,5.46,5.46,0,0,0,6.5,12Z\"/>\n",
              "  </svg>\n",
              "    </button>\n",
              "    <script>\n",
              "      (() => {\n",
              "      const buttonEl =\n",
              "        document.querySelector('#id_6ee5c740-73ee-43a1-8f8f-98d9d378720f button.colab-df-generate');\n",
              "      buttonEl.style.display =\n",
              "        google.colab.kernel.accessAllowed ? 'block' : 'none';\n",
              "\n",
              "      buttonEl.onclick = () => {\n",
              "        google.colab.notebook.generateWithVariable('df');\n",
              "      }\n",
              "      })();\n",
              "    </script>\n",
              "  </div>\n",
              "\n",
              "    </div>\n",
              "  </div>\n"
            ],
            "application/vnd.google.colaboratory.intrinsic+json": {
              "type": "dataframe",
              "variable_name": "df",
              "summary": "{\n  \"name\": \"df\",\n  \"rows\": 306,\n  \"fields\": [\n    {\n      \"column\": \"full_text\",\n      \"properties\": {\n        \"dtype\": \"string\",\n        \"num_unique_values\": 300,\n        \"samples\": [\n          \"bs d tangkep piara mukidi aman\",\n          \"lihat bagaimanakerja polisi kalo\",\n          \"not\"\n        ],\n        \"semantic_type\": \"\",\n        \"description\": \"\"\n      }\n    },\n    {\n      \"column\": \"Polarity\",\n      \"properties\": {\n        \"dtype\": \"number\",\n        \"std\": 0.13083320956534175,\n        \"min\": -0.6808,\n        \"max\": 0.5859,\n        \"num_unique_values\": 25,\n        \"samples\": [\n          0.1027,\n          -0.6808,\n          0.0\n        ],\n        \"semantic_type\": \"\",\n        \"description\": \"\"\n      }\n    },\n    {\n      \"column\": \"Subjectivity\",\n      \"properties\": {\n        \"dtype\": \"number\",\n        \"std\": 0.15067828488982954,\n        \"min\": 0.0,\n        \"max\": 1.0,\n        \"num_unique_values\": 34,\n        \"samples\": [\n          0.866,\n          0.778,\n          0.655\n        ],\n        \"semantic_type\": \"\",\n        \"description\": \"\"\n      }\n    },\n    {\n      \"column\": \"Analysis\",\n      \"properties\": {\n        \"dtype\": \"category\",\n        \"num_unique_values\": 3,\n        \"samples\": [\n          \"Netral\",\n          \"Negatif\",\n          \"Positif\"\n        ],\n        \"semantic_type\": \"\",\n        \"description\": \"\"\n      }\n    }\n  ]\n}"
            }
          },
          "metadata": {},
          "execution_count": 29
        }
      ]
    },
    {
      "cell_type": "code",
      "source": [
        "\n",
        "X = df[['Polarity', 'Subjectivity']]\n",
        "y = df['Analysis']\n",
        "\n",
        "X_train_vec, X_test_vec, y_train, y_test = train_test_split(X, y, test_size=0.3, random_state=42)\n",
        "\n",
        "svm_model = SVC(random_state=42)\n",
        "svm_model.fit(X_train_vec, y_train)\n",
        "\n",
        "y_pred = svm_model.predict(X_test_vec)"
      ],
      "metadata": {
        "id": "cpg_RJ7VtHZA"
      },
      "execution_count": null,
      "outputs": []
    },
    {
      "cell_type": "code",
      "source": [
        "svm_model = SVC(random_state=42)\n",
        "svm_model.fit(X_train_vec, y_train)\n",
        "\n",
        "y_pred = svm_model.predict(X_test_vec)\n",
        "\n",
        "print(classification_report(y_test, y_pred))"
      ],
      "metadata": {
        "colab": {
          "base_uri": "https://localhost:8080/"
        },
        "id": "rB-CHAnBt5By",
        "outputId": "c58092e9-ccfe-4136-d77d-50c50900ef87"
      },
      "execution_count": null,
      "outputs": [
        {
          "output_type": "stream",
          "name": "stdout",
          "text": [
            "              precision    recall  f1-score   support\n",
            "\n",
            "     Negatif       1.00      1.00      1.00         6\n",
            "      Netral       0.98      1.00      0.99        79\n",
            "     Positif       1.00      0.71      0.83         7\n",
            "\n",
            "    accuracy                           0.98        92\n",
            "   macro avg       0.99      0.90      0.94        92\n",
            "weighted avg       0.98      0.98      0.98        92\n",
            "\n"
          ]
        }
      ]
    },
    {
      "cell_type": "code",
      "source": [
        "# Confusion Matrix\n",
        "conf_matrix = confusion_matrix(y_test, y_pred)\n",
        "\n",
        "plt.figure(figsize=(6,4))\n",
        "sns.heatmap(conf_matrix, annot=True, fmt='d', cmap='Reds', xticklabels=svm_model.classes_, yticklabels=svm_model.classes_)\n",
        "plt.title('Confusion Matrix')\n",
        "plt.xlabel('Predicted')\n",
        "plt.ylabel('Actual')\n",
        "plt.show()"
      ],
      "metadata": {
        "colab": {
          "base_uri": "https://localhost:8080/",
          "height": 410
        },
        "id": "XHMGGyaUt97G",
        "outputId": "fd68f51a-8c0f-4b60-9abb-a4077100a84f"
      },
      "execution_count": null,
      "outputs": [
        {
          "output_type": "display_data",
          "data": {
            "text/plain": [
              "<Figure size 600x400 with 2 Axes>"
            ],
            "image/png": "[encoded data removed]"
          },
          "metadata": {}
        }
      ]
    }
  ],
  "metadata": {
    "colab": {
      "provenance": [],
      "collapsed_sections": [
        "zlp0UZYzdr-W",
        "1_fBtE3Pb-cE",
        "FuerN8BoK_Wu",
        "X7hEGWgJRgaa",
        "Qkxbrsje0FGF",
        "hk3PTYFj2nqn",
        "kCkwasJM4fNA"
      ],
      "include_colab_link": true
    },
    "kernelspec": {
      "display_name": "Python 3",
      "name": "python3"
    },
    "language_info": {
      "name": "python"
    }
  },
  "nbformat": 4,
  "nbformat_minor": 0
}